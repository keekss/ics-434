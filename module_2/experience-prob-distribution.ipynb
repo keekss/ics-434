{
 "cells": [
  {
   "cell_type": "markdown",
   "id": "713c60c7",
   "metadata": {},
   "source": [
    "##### Q.1 \n",
    "\n",
    "Consider the loaded die with the following probabilities:\n",
    "```\n",
    "    p(1) = 0.3/6\n",
    "    p(2) = 0.7/6\n",
    "    p(3) =   2/6\n",
    "    p(4) = 0.5/6\n",
    "    p(5) = 0.2/6\n",
    "    p(6) = 2.3/6\n",
    "```\n"
   ]
  },
  {
   "cell_type": "markdown",
   "id": "dbe12bdf",
   "metadata": {},
   "source": [
    "##### Q.2 \n",
    "* Plot the probability distribution above\n",
    "  * Select the most appropriate visualization to do so."
   ]
  },
  {
   "cell_type": "markdown",
   "id": "9baec9fa",
   "metadata": {},
   "source": [
    "> Since our distribution is discrete, a bar chart is most appropriate."
   ]
  },
  {
   "cell_type": "code",
   "execution_count": 10,
   "id": "f519fe80",
   "metadata": {},
   "outputs": [
    {
     "data": {
      "text/plain": [
       "Text(0, 0.5, 'Probability')"
      ]
     },
     "execution_count": 10,
     "metadata": {},
     "output_type": "execute_result"
    },
    {
     "data": {
      "image/png": "[encoded data removed]",
      "text/plain": [
       "<Figure size 576x396 with 1 Axes>"
      ]
     },
     "metadata": {},
     "output_type": "display_data"
    }
   ],
   "source": [
    "import numpy as np\n",
    "import matplotlib.pyplot as plt\n",
    "\n",
    "sample_space = np.array([i for i in range(1, 7)])\n",
    "probabilities = (1/6) * np.array([0.3, 0.7, 2, 0.5, 0.2, 2.3])\n",
    "\n",
    "plt.style.use('seaborn')\n",
    "plt.bar(sample_space, probabilities)\n",
    "plt.xlabel('Dice Value')\n",
    "plt.ylabel('Probability')"
   ]
  },
  {
   "cell_type": "markdown",
   "id": "2bebd2a7",
   "metadata": {},
   "source": [
    "##### Q.3 \n",
    "* Based only on the plot above, can you predict the mean value of a random variable consisting of values obtaining from rolling a die  that follows the probability distribution given above? Explain your reasoning."
   ]
  },
  {
   "cell_type": "markdown",
   "id": "3bf5b6d2",
   "metadata": {},
   "source": [
    "> The expected value of the discrete random variable is the sum of the probabilities multiplied by their value for each term.\n",
    "> This can be calculated as the dot product of sample_space and probabilities"
   ]
  },
  {
   "cell_type": "code",
   "execution_count": 11,
   "id": "9144c2f9",
   "metadata": {},
   "outputs": [
    {
     "name": "stdout",
     "output_type": "stream",
     "text": [
      "The expected value is 4.083333333333333\n"
     ]
    }
   ],
   "source": [
    "expected_value = np.dot(sample_space, probabilities)\n",
    "print('The expected value is', expected_value)"
   ]
  },
  {
   "cell_type": "markdown",
   "id": "007f6984",
   "metadata": {},
   "source": [
    "##### Q.4\n",
    "* Sample 5000 die rolls such that the probabilities of obtaining the values 1 through 6 are distributed according probabilities above. Use these samples to estimate the mean of the random variable. \n"
   ]
  },
  {
   "cell_type": "code",
   "execution_count": 12,
   "id": "5bc38d79",
   "metadata": {},
   "outputs": [
    {
     "name": "stdout",
     "output_type": "stream",
     "text": [
      "The mean is 4.0684\n"
     ]
    }
   ],
   "source": [
    "n = 5000\n",
    "samples = np.random.choice(\n",
    "    sample_space, \n",
    "    n, \n",
    "    p = probabilities\n",
    ")\n",
    "mean = np.sum(samples) / n\n",
    "print('The mean is', mean)"
   ]
  },
  {
   "cell_type": "markdown",
   "id": "78152616",
   "metadata": {},
   "source": [
    "##### Q.5 \n",
    "\n",
    "* Does the mean match your prediction in Q.3 above? Explain your answer.\n"
   ]
  },
  {
   "cell_type": "code",
   "execution_count": 17,
   "id": "9d38d607",
   "metadata": {},
   "outputs": [
    {
     "name": "stdout",
     "output_type": "stream",
     "text": [
      "The sample differed from our expected value by -0.36571428571428893%\n"
     ]
    }
   ],
   "source": [
    "diff_proportion = (mean - expected_value)/expected_value\n",
    "print(f'The sample differed from our expected value by {100 * diff_proportion}%')"
   ]
  },
  {
   "cell_type": "markdown",
   "id": "7652fff1",
   "metadata": {},
   "source": [
    "> The sample deviated from our expected value due to random chance, but by relatively little, i.e. less than 5%."
   ]
  }
 ],
 "metadata": {
  "kernelspec": {
   "display_name": "Python 3 (ipykernel)",
   "language": "python",
   "name": "python3"
  },
  "language_info": {
   "codemirror_mode": {
    "name": "ipython",
    "version": 3
   },
   "file_extension": ".py",
   "mimetype": "text/x-python",
   "name": "python",
   "nbconvert_exporter": "python",
   "pygments_lexer": "ipython3",
   "version": "3.8.12"
  }
 },
 "nbformat": 4,
 "nbformat_minor": 5
}
